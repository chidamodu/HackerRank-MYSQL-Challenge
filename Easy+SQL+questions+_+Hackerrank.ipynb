{
 "cells": [
  {
   "cell_type": "code",
   "execution_count": null,
   "metadata": {
    "collapsed": true
   },
   "outputs": [],
   "source": [
    "Weather Observation Station 17\n",
    "\n",
    "Query the Western Longitude (LONG_W)where the smallest Northern Latitude (LAT_N) in STATION\n",
    "is greater than . Round your answer to  decimal places.\n",
    "select round(LONG_W,4) from STATION where LAT_N>38.7780 order by LAT_N limit 1;\n"
   ]
  },
  {
   "cell_type": "code",
   "execution_count": null,
   "metadata": {
    "collapsed": true
   },
   "outputs": [],
   "source": [
    "Weather Observation Station 14\n",
    "\n",
    "Query the greatest value of the Northern Latitudes (LAT_N) from STATION that is less than 137.2345.\n",
    "Truncate your answer to 4 decimal places.\n",
    "\n",
    "select round(MAX(LAT_N),4) from STATION where LAT_N<137.2345 order by LAT_N;"
   ]
  },
  {
   "cell_type": "code",
   "execution_count": null,
   "metadata": {
    "collapsed": true
   },
   "outputs": [],
   "source": [
    "#11.04\n",
    "\n",
    "This did not work# SELECT ABS(AVG(Salary)-AVG(CONVERT(REPLACE(STR(Salary),'0','')),INTEGER)) AS diff_salary FROM EMPLOYEES;\n",
    "\n",
    "\n",
    "But this did: SELECT CEIL(AVG(Salary)-AVG(REPLACE(Salary,'0',''))) FROM EMPLOYEES;"
   ]
  }
 ],
 "metadata": {
  "kernelspec": {
   "display_name": "Python 3",
   "language": "python",
   "name": "python3"
  },
  "language_info": {
   "codemirror_mode": {
    "name": "ipython",
    "version": 3
   },
   "file_extension": ".py",
   "mimetype": "text/x-python",
   "name": "python",
   "nbconvert_exporter": "python",
   "pygments_lexer": "ipython3",
   "version": "3.6.1"
  }
 },
 "nbformat": 4,
 "nbformat_minor": 2
}
