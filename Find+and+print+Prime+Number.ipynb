{
 "cells": [
  {
   "cell_type": "code",
   "execution_count": null,
   "metadata": {
    "collapsed": true
   },
   "outputs": [],
   "source": [
    "SELECT GROUP_CONCAT(NUMB SEPARATOR '&')\n",
    "FROM (\n",
    "    SELECT @num:=@num+1 as NUMB FROM\n",
    "    information_schema.tables t1,\n",
    "    information_schema.tables t2,\n",
    "    (SELECT @num:=1) tmp\n",
    ") tempNum\n",
    "WHERE NUMB<=1000 AND NOT EXISTS(\n",
    "        SELECT * FROM (\n",
    "            SELECT @nu:=@nu+1 as NUMA FROM\n",
    "                information_schema.tables t1,\n",
    "                information_schema.tables t2,\n",
    "                (SELECT @nu:=1) tmp1\n",
    "                LIMIT 1000\n",
    "            ) tatata\n",
    "        WHERE FLOOR(NUMB/NUMA)=(NUMB/NUMA) AND NUMA<NUMB AND NUMA>1\n",
    "    )"
   ]
  },
  {
   "cell_type": "code",
   "execution_count": null,
   "metadata": {
    "collapsed": true
   },
   "outputs": [],
   "source": [
    "I think we can break the query in 3 parts, just for understanding purpose.\n",
    "\n",
    "Generate all the numbers from 1 to 1000.\n",
    "For every number i in {1..1000}, find whether a number j such that j < i and i % j = 0 exists. If it does then it implies i is prime.\n",
    "At last, all the primes are combined to form the string of type \"prime1&prime2&...\".\n",
    "Now the details of every step is as follows.\n",
    "\n",
    "1. Generate numbers from 1 to 1000\n",
    "\n",
    "The inner query in the first FROM clause gives a table with only one column NUMB which contains numbers from 2 to (no_of_rows(information_schema.tables) * no_of_rows(information_schema.tables)) + 1.\n",
    "\n",
    "SELECT @num:=@num+1 as NUMB FROM\n",
    "    information_schema.tables t1,\n",
    "    information_schema.tables t2,\n",
    "    (SELECT @num:=1) tmp\n",
    "The information_schema.tables is kind of a default table. It is used here just to increment the @num variable enough number of times(at least 1000 times). This table has 63 rows(if I remember correctly), so it can only execute the statement in the SELECT clause 63 times(thus we can only increment @num to 64). Therefore the cross join is used to get 63* 63 rows(> 1000) and this is the reason query is using information_schema.tables 2 times.\n",
    "\n",
    "2. Find the prime numbers\n",
    "\n",
    "The inner query inside the EXISTS is a correlated query because it is referencing the NUMB column which is outside of it(a correlated query is an inner query which is evaluated for every row of the outer table).\n",
    "\n",
    "SELECT * FROM (\n",
    "\t\t\tSELECT @nu:=@nu+1 as NUMA FROM\n",
    "\t\t\t    information_schema.tables t1,\n",
    "\t\t\t    information_schema.tables t2,\n",
    "\t\t\t    (SELECT @nu:=1) tmp1\n",
    "\t\t\t    LIMIT 1000\n",
    "\t\t\t) tatata\n",
    "\t\tWHERE FLOOR(NUMB/NUMA)=(NUMB/NUMA) AND NUMA<NUMB AND NUMA>1\n",
    "This inner query is again using the same trick to generate all the integer j from 1 to 1000 that are less than the current NUMB and divides NUMB(which implies that current value of NUMB is a prime number). The execution of this query is stopped as soon as first such j is found because it is inside of EXISTS.\n",
    "\n",
    "3. Generating the string \"prime1&prime2&...\"\n",
    "\n",
    "The GROUP_CONCAT(NUMB SEPARATOR '&') function is used to concat all the primes(which are present in select clause under the column name NUMB) separated by '&'."
   ]
  }
 ],
 "metadata": {
  "kernelspec": {
   "display_name": "Python 3",
   "language": "python",
   "name": "python3"
  },
  "language_info": {
   "codemirror_mode": {
    "name": "ipython",
    "version": 3
   },
   "file_extension": ".py",
   "mimetype": "text/x-python",
   "name": "python",
   "nbconvert_exporter": "python",
   "pygments_lexer": "ipython3",
   "version": "3.6.1"
  }
 },
 "nbformat": 4,
 "nbformat_minor": 2
}
