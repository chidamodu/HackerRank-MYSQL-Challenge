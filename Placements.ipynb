{
 "cells": [
  {
   "cell_type": "code",
   "execution_count": null,
   "metadata": {
    "collapsed": true
   },
   "outputs": [],
   "source": [
    "#4.20\n",
    "\n",
    "\n",
    "# SELECT s.name FROM students s\n",
    "# JOIN friends f\n",
    "\n",
    "\n",
    "# select p.id FROM \n",
    "# (\n",
    "# (SELECT f.id AS fid, salary AS id_salary FROM packages p\n",
    "# JOIN friends f\n",
    "# ON f.id=p.id)goat \n",
    "# JOIN\n",
    "\n",
    "# (SELECT p.id AS pid, salary AS friend_salary FROM packages p\n",
    "# JOIN friends f\n",
    "# ON f.friend_id=p.id)lion\n",
    "\n",
    "# ON goat.fid=lion.pid\n",
    "# where lion.friend_salary>goat.id_salary\n",
    "\n",
    "    \n",
    "    \n",
    "Select S.Name\n",
    "From ( Students S join Friends F Using(ID)\n",
    "       join Packages P1 on S.ID=P1.ID\n",
    "       join Packages P2 on F.Friend_ID=P2.ID)\n",
    "Where P2.Salary > P1.Salary\n",
    "Order By P2.Salary;\n"
   ]
  }
 ],
 "metadata": {
  "kernelspec": {
   "display_name": "Python 3",
   "language": "python",
   "name": "python3"
  },
  "language_info": {
   "codemirror_mode": {
    "name": "ipython",
    "version": 3
   },
   "file_extension": ".py",
   "mimetype": "text/x-python",
   "name": "python",
   "nbconvert_exporter": "python",
   "pygments_lexer": "ipython3",
   "version": "3.6.1"
  }
 },
 "nbformat": 4,
 "nbformat_minor": 2
}
