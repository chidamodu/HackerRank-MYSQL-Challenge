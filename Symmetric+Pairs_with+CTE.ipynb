{
 "cells": [
  {
   "cell_type": "code",
   "execution_count": null,
   "metadata": {
    "collapsed": true
   },
   "outputs": [],
   "source": [
    "#The following query is clearer compared to the MYSQL one in the git\n",
    "with f1 as (\n",
    "SELECT x, y,row_number()over(partition by x,y order by x) as cnt FROM Functions f1)\n",
    "\n",
    "SELECT DISTINCT f1.x,f1.y from f1 inner join Functions f2 on f1.x=f2.y and f1.y=f2.x and (f1.x!=f1.y or cnt >1)\n",
    "where f1.x<=f1.y\n",
    "order by f1.x;\n"
   ]
  },
  {
   "cell_type": "code",
   "execution_count": null,
   "metadata": {
    "collapsed": true
   },
   "outputs": [],
   "source": [
    "SELECT X, Y FROM FUNCTIONS F1\n",
    "    WHERE EXISTS(SELECT * FROM FUNCTIONS F2 WHERE F2.Y = F1.X\n",
    "    AND F2.X = F1.Y AND F2.X > F1.X) AND (X != Y)\n",
    "UNION\n",
    "SELECT X,Y FROM FUNCTIONS F1 WHERE X = Y AND \n",
    "    ((SELECT COUNT(*) FROM FUNCTIONS WHERE X = F1.X AND Y = F1.X) > 1)\n",
    "      ORDER BY X;\n",
    "        \n",
    "        \n",
    "        \n",
    "        "
   ]
  },
  {
   "cell_type": "code",
   "execution_count": null,
   "metadata": {
    "collapsed": true
   },
   "outputs": [],
   "source": [
    "SELECT x, y,row_number()over(partition by x,y order by x) as count_val FROM Functions f1\n",
    "UNION\n",
    "SELECT DISTINCT f1.x,f1.y from f1 inner join Functions f2\n",
    "on f1.x=f2.y and f1.y=f2.x and (f1.x!=f1.y or count_val >1)\n",
    "where f1.x<=f1.yorder by f1.x;\n"
   ]
  }
 ],
 "metadata": {
  "kernelspec": {
   "display_name": "Python 3",
   "language": "python",
   "name": "python3"
  },
  "language_info": {
   "codemirror_mode": {
    "name": "ipython",
    "version": 3
   },
   "file_extension": ".py",
   "mimetype": "text/x-python",
   "name": "python",
   "nbconvert_exporter": "python",
   "pygments_lexer": "ipython3",
   "version": "3.6.1"
  }
 },
 "nbformat": 4,
 "nbformat_minor": 2
}
