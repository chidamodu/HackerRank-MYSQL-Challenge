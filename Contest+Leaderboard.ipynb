{
 "cells": [
  {
   "cell_type": "code",
   "execution_count": null,
   "metadata": {
    "collapsed": true
   },
   "outputs": [],
   "source": [
    "#5.32 - 5.37\n",
    "Hackerrank submission\n",
    "Select h.hacker_id, h.name, Sum(goat.max_score) AS tot_score\n",
    "From hackers h\n",
    "Join\n",
    "(SELECT hacker_id, MAX(score) AS max_score\n",
    "From submissions\n",
    "Group by challenge_id, hacker_id) goat\n",
    "ON h.hacker_id=goat.hacker_id\n",
    "Group by h.hacker_id, h.name\n",
    "Having tot_score>0\n",
    "Order by tot_score DESC, h.hacker_id ASC;"
   ]
  }
 ],
 "metadata": {
  "kernelspec": {
   "display_name": "Python 3",
   "language": "python",
   "name": "python3"
  },
  "language_info": {
   "codemirror_mode": {
    "name": "ipython",
    "version": 3
   },
   "file_extension": ".py",
   "mimetype": "text/x-python",
   "name": "python",
   "nbconvert_exporter": "python",
   "pygments_lexer": "ipython3",
   "version": "3.6.1"
  }
 },
 "nbformat": 4,
 "nbformat_minor": 2
}
